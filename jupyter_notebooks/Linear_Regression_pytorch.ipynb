{
 "cells": [
  {
   "cell_type": "code",
   "execution_count": null,
   "metadata": {},
   "outputs": [],
   "source": [
    "import torch\n",
    "import numpy as np\n",
    "import pandas as pd\n",
    "import matplotlib.pyplot as plt\n",
    "import seaborn as sns\n",
    "\n",
    "pd.options.display.max_rows = 10\n",
    "pd.options.display.float_format = \"{:.1f}\".format\n",
    "\n",
    "import warnings\n",
    "warnings.filterwarnings(\"ignore\")\n",
    "\n",
    "torch.manual_seed(1)"
   ]
  },
  {
   "cell_type": "markdown",
   "metadata": {},
   "source": [
    "### Loading dataset using Pandas\n",
    "For detailed explaination click [here](https://github.com/akshayparakh25/Python-for-Data_Science/blob/master/jupyter-notebooks/pandas.ipynb) <br>\n",
    "The dataset is available [here](https://github.com/akshayparakh25/imdb_1000_scraper/blob/master/imdb_data.csv)"
   ]
  },
  {
   "cell_type": "code",
   "execution_count": null,
   "metadata": {},
   "outputs": [],
   "source": [
    "df = pd.read_csv('./../data/imdbtop1000/imdb_data.csv', sep='\\t')\n",
    "df = df.rename(columns={'User Votes': 'Votes',\n",
    "                        'Imdb Rating': 'Rating',\n",
    "                       'Gross(in Million Dollars)': 'Earnings',\n",
    "                       'Runtime(Minutes)' : 'Runtime'})\n",
    "df.head()"
   ]
  },
  {
   "cell_type": "markdown",
   "metadata": {},
   "source": [
    "#### Statistical analysis of data to find the best input feature for target *quality*"
   ]
  },
  {
   "cell_type": "code",
   "execution_count": null,
   "metadata": {},
   "outputs": [],
   "source": [
    "df.describe()"
   ]
  },
  {
   "cell_type": "code",
   "execution_count": null,
   "metadata": {},
   "outputs": [],
   "source": [
    "#Correlation between columns to identify best feature for training a model\n",
    "df.corr()"
   ]
  },
  {
   "cell_type": "markdown",
   "metadata": {},
   "source": [
    "## Linear Regression with one variable"
   ]
  },
  {
   "cell_type": "code",
   "execution_count": null,
   "metadata": {},
   "outputs": [],
   "source": [
    "dataframe = df[['Votes', 'Rating']]\n",
    "#It is very important to normalise the input features in a proper range\n",
    "#It helps in avoiding very large calculations\n",
    "dataframe['Votes'] = dataframe['Votes'] / 1000000\n",
    "dataframe.head()"
   ]
  },
  {
   "cell_type": "code",
   "execution_count": null,
   "metadata": {},
   "outputs": [],
   "source": [
    "#Checking if there's any null values in the dataset\n",
    "dataframe[dataframe.Votes.isnull()]"
   ]
  },
  {
   "cell_type": "markdown",
   "metadata": {},
   "source": [
    "#### Visualizing dataset"
   ]
  },
  {
   "cell_type": "code",
   "execution_count": null,
   "metadata": {},
   "outputs": [],
   "source": [
    "plt.figure(figsize=(8,6))\n",
    "plt.title(\"Analysis of data points Votes Vs Rating\")\n",
    "sns.scatterplot(x=dataframe.Votes, y=dataframe.Rating)\n",
    "plt.xlabel('User Votes')\n",
    "plt.ylabel('IMDB Rating')\n",
    "plt.show()"
   ]
  },
  {
   "cell_type": "markdown",
   "metadata": {},
   "source": [
    "### Creating custom dataset using Dataset class from torch.utils.data\n",
    "for detailed explaination check [here](https://github.com/akshayparakh25/Python-for-Data_Science/blob/master/jupyter-notebooks/pytorch.ipynb)"
   ]
  },
  {
   "cell_type": "code",
   "execution_count": null,
   "metadata": {},
   "outputs": [],
   "source": [
    "from torch.utils.data import Dataset, DataLoader"
   ]
  },
  {
   "cell_type": "code",
   "execution_count": null,
   "metadata": {},
   "outputs": [],
   "source": [
    "# x = torch.arange(-4, 4, 0.1).view(-1,1)\n",
    "# f = -2*x + 3\n",
    "# df = pd.DataFrame({'X' : x.view(1,-1).numpy()[0], 'Y' : f.view(1,-1).numpy()[0]})\n",
    "# df.shape[0]"
   ]
  },
  {
   "cell_type": "code",
   "execution_count": null,
   "metadata": {},
   "outputs": [],
   "source": [
    "class ratingData(Dataset):\n",
    "    def __init__(self, df, transform=None):\n",
    "        self.data = df\n",
    "        self.transform = transform\n",
    "    \n",
    "    def __len__(self):\n",
    "        return len(self.data)\n",
    "    \n",
    "    def __getitem__(self, idx):\n",
    "        sample = self.data.iloc[idx, 0], self.data.iloc[idx, 1]\n",
    "        if self.transform:\n",
    "            sample = self.transform(sample)\n",
    "        return sample"
   ]
  },
  {
   "cell_type": "markdown",
   "metadata": {},
   "source": [
    "#### Creating instance of Rating Dataset"
   ]
  },
  {
   "cell_type": "code",
   "execution_count": null,
   "metadata": {},
   "outputs": [],
   "source": [
    "dataset = ratingData(dataframe)"
   ]
  },
  {
   "cell_type": "code",
   "execution_count": null,
   "metadata": {},
   "outputs": [],
   "source": [
    "dataset[123]"
   ]
  },
  {
   "cell_type": "code",
   "execution_count": null,
   "metadata": {},
   "outputs": [],
   "source": [
    "len(dataset)"
   ]
  },
  {
   "cell_type": "markdown",
   "metadata": {},
   "source": [
    "### Creating instance of Dataloader class to iterate over dataset in batches"
   ]
  },
  {
   "cell_type": "code",
   "execution_count": null,
   "metadata": {},
   "outputs": [],
   "source": [
    "dataloader = DataLoader(dataset, shuffle=True, batch_size=1)"
   ]
  },
  {
   "cell_type": "markdown",
   "metadata": {},
   "source": [
    "### Creating a Linear Regression model"
   ]
  },
  {
   "cell_type": "code",
   "execution_count": null,
   "metadata": {},
   "outputs": [],
   "source": [
    "from torch import nn, optim"
   ]
  },
  {
   "cell_type": "code",
   "execution_count": null,
   "metadata": {},
   "outputs": [],
   "source": [
    "class LinearRegression(nn.Module):\n",
    "    \n",
    "    #Constructor for defining the model\n",
    "    def __init__(self, inp_size, out_size):\n",
    "        super(LinearRegression, self).__init__()\n",
    "        self.linear = nn.Linear(inp_size, out_size)\n",
    "        \n",
    "    #Prediction/Forward Pass\n",
    "    def forward(self, x):\n",
    "        pred = self.linear(x)\n",
    "        return pred"
   ]
  },
  {
   "cell_type": "code",
   "execution_count": null,
   "metadata": {},
   "outputs": [],
   "source": [
    "model = LinearRegression(1,1)"
   ]
  },
  {
   "cell_type": "code",
   "execution_count": null,
   "metadata": {},
   "outputs": [],
   "source": [
    "#Randomly initialised parameters\n",
    "list(model.parameters())"
   ]
  },
  {
   "cell_type": "code",
   "execution_count": null,
   "metadata": {},
   "outputs": [],
   "source": [
    "model.state_dict"
   ]
  },
  {
   "cell_type": "code",
   "execution_count": null,
   "metadata": {},
   "outputs": [],
   "source": [
    "model.linear"
   ]
  },
  {
   "cell_type": "code",
   "execution_count": null,
   "metadata": {},
   "outputs": [],
   "source": [
    "model.linear.weight"
   ]
  },
  {
   "cell_type": "code",
   "execution_count": null,
   "metadata": {},
   "outputs": [],
   "source": [
    "model.linear.bias"
   ]
  },
  {
   "cell_type": "markdown",
   "metadata": {},
   "source": [
    "#### Defining loss function"
   ]
  },
  {
   "cell_type": "code",
   "execution_count": null,
   "metadata": {},
   "outputs": [],
   "source": [
    "criterion = nn.MSELoss()"
   ]
  },
  {
   "cell_type": "markdown",
   "metadata": {},
   "source": [
    "#### Defining a Stochastic Gradient Descent (SGD) Optimizer"
   ]
  },
  {
   "cell_type": "code",
   "execution_count": null,
   "metadata": {},
   "outputs": [],
   "source": [
    "optimizer = optim.SGD(model.parameters(), lr=0.02)"
   ]
  },
  {
   "cell_type": "code",
   "execution_count": null,
   "metadata": {},
   "outputs": [],
   "source": [
    "#Like models, optimizers as well have state dictionary\n",
    "optimizer.state_dict()"
   ]
  },
  {
   "cell_type": "markdown",
   "metadata": {},
   "source": [
    "Many of the key corresponds to other advanced optimizer"
   ]
  },
  {
   "cell_type": "code",
   "execution_count": null,
   "metadata": {},
   "outputs": [],
   "source": [
    "# #Model weights and bias can also be manually set \n",
    "# model.state_dict()['linear.weight'][0] = -10.0\n",
    "# model.state_dict()['linear.bias'][0] = -15.0"
   ]
  },
  {
   "cell_type": "code",
   "execution_count": null,
   "metadata": {},
   "outputs": [],
   "source": [
    "def train(model, dataloader, epochs, lr):\n",
    "    LOSS = []\n",
    "    \n",
    "    criterion = nn.MSELoss()\n",
    "    \n",
    "    optimizer = optim.SGD(model.parameters(), lr=lr)\n",
    "    \n",
    "    for epoch in range(epochs):\n",
    "        print(\" Epoch :: \", epoch)\n",
    "        epochloss = []\n",
    "        for x, y in dataloader:\n",
    "            #Making predictions\n",
    "            pred = model(x.view(-1,1))\n",
    "\n",
    "            #Claculating loss\n",
    "            loss = criterion(pred, y.float())\n",
    "            epochloss.append(loss)\n",
    "\n",
    "            #Clears the gradients of all optimized tensors\n",
    "            #Setting gradients to 0\n",
    "            optimizer.zero_grad()\n",
    "\n",
    "            #Calculate gradient for loss\n",
    "            loss.backward()\n",
    "\n",
    "            #To update the learnable parameters (weight and bias)\n",
    "            optimizer.step()\n",
    "        LOSS.append(torch.mean(torch.tensor(epochloss)))\n",
    "        print(\"Total Losses :: \",torch.mean(torch.tensor(epochloss)))\n",
    "    return LOSS"
   ]
  },
  {
   "cell_type": "markdown",
   "metadata": {},
   "source": [
    "#### Batch Gradient Descent"
   ]
  },
  {
   "cell_type": "code",
   "execution_count": null,
   "metadata": {},
   "outputs": [],
   "source": [
    "LOSS = []\n",
    "epochs = 15\n",
    "batch_size = len(dataset)\n",
    "learning_rate = 0.1\n",
    "\n",
    "model = LinearRegression(1,1)\n",
    "print(\"Initialised Model's parameters :: \", model.parameters())\n",
    "\n",
    "dataloader = DataLoader(dataset, shuffle=True, batch_size=batch_size)\n",
    "\n",
    "LOSS = train(model=model, dataloader=dataloader, epochs=epochs, lr=learning_rate)\n",
    "\n",
    "print(list(model.parameters()))"
   ]
  },
  {
   "cell_type": "code",
   "execution_count": null,
   "metadata": {},
   "outputs": [],
   "source": [
    "weight = model.linear.weight[0].item()\n",
    "bias = model.linear.bias[0].item()\n",
    "print(weight)\n",
    "print(bias)\n",
    "predictions = weight * dataframe.Votes + bias\n",
    "\n",
    "plt.figure(figsize=(8,6))\n",
    "plt.title(\"Analysis of trained model and data points\")\n",
    "sns.scatterplot(x=dataframe.Votes, y=dataframe.Rating)\n",
    "sns.lineplot(x=dataframe.Votes, y=predictions, color='red')\n",
    "plt.xlabel('User Votes')\n",
    "plt.ylabel('IMDB Rating')\n",
    "plt.show()"
   ]
  },
  {
   "cell_type": "code",
   "execution_count": null,
   "metadata": {},
   "outputs": [],
   "source": [
    "plt.figure(figsize=(8,6))\n",
    "plt.plot(LOSS, label='BGD')\n",
    "plt.xlabel('epochs')\n",
    "plt.ylabel('loss')\n",
    "plt.legend()\n",
    "plt.show()"
   ]
  },
  {
   "cell_type": "markdown",
   "metadata": {},
   "source": [
    "#### Stochastic Gradient Descent"
   ]
  },
  {
   "cell_type": "code",
   "execution_count": null,
   "metadata": {},
   "outputs": [],
   "source": [
    "LOSS = []\n",
    "epochs = 15\n",
    "batch_size = 1\n",
    "learning_rate = 0.1\n",
    "\n",
    "model = LinearRegression(1,1)\n",
    "print(\"Initialised Model's parameters :: \", model.parameters())\n",
    "\n",
    "dataloader = DataLoader(dataset, shuffle=True, batch_size=batch_size)\n",
    "\n",
    "LOSS = train(model=model, dataloader=dataloader, epochs=epochs, lr=learning_rate)\n",
    "\n",
    "print(list(model.parameters()))"
   ]
  },
  {
   "cell_type": "code",
   "execution_count": null,
   "metadata": {},
   "outputs": [],
   "source": [
    "weight = model.linear.weight[0].item()\n",
    "bias = model.linear.bias[0].item()\n",
    "print(weight)\n",
    "print(bias)\n",
    "predictions = weight * dataframe.Votes + bias\n",
    "\n",
    "plt.figure(figsize=(8,6))\n",
    "plt.title(\"Analysis of trained model and data points\")\n",
    "sns.scatterplot(x=dataframe.Votes, y=dataframe.Rating)\n",
    "sns.lineplot(x=dataframe.Votes, y=predictions, color='red')\n",
    "plt.xlabel('User Votes')\n",
    "plt.ylabel('IMDB Rating')\n",
    "plt.show()"
   ]
  },
  {
   "cell_type": "code",
   "execution_count": null,
   "metadata": {},
   "outputs": [],
   "source": [
    "plt.figure(figsize=(8,6))\n",
    "plt.plot(LOSS, label='SGD')\n",
    "plt.xlabel('epochs')\n",
    "plt.ylabel('loss')\n",
    "plt.legend()\n",
    "plt.show()"
   ]
  },
  {
   "cell_type": "markdown",
   "metadata": {},
   "source": [
    "#### Mini-Batch Gradient Descent"
   ]
  },
  {
   "cell_type": "code",
   "execution_count": null,
   "metadata": {},
   "outputs": [],
   "source": [
    "LOSS = []\n",
    "epochs = 15\n",
    "batch_size = 15\n",
    "learning_rate = 0.1\n",
    "\n",
    "model = LinearRegression(1,1)\n",
    "print(\"Initialised Model's parameters :: \", model.parameters())\n",
    "\n",
    "dataloader = DataLoader(dataset, shuffle=True, batch_size=batch_size)\n",
    "\n",
    "LOSS = train(model=model, dataloader=dataloader, epochs=epochs, lr=learning_rate)\n",
    "\n",
    "print(list(model.parameters()))"
   ]
  },
  {
   "cell_type": "code",
   "execution_count": null,
   "metadata": {},
   "outputs": [],
   "source": [
    "weight = model.linear.weight[0].item()\n",
    "bias = model.linear.bias[0].item()\n",
    "print(weight)\n",
    "print(bias)\n",
    "predictions = weight * dataframe.Votes + bias\n",
    "\n",
    "plt.figure(figsize=(8,6))\n",
    "plt.title(\"Analysis of trained model and data points\")\n",
    "sns.scatterplot(x=dataframe.Votes, y=dataframe.Rating)\n",
    "sns.lineplot(x=dataframe.Votes, y=predictions, color='red')\n",
    "plt.xlabel('User Votes')\n",
    "plt.ylabel('IMDB Rating')\n",
    "plt.show()"
   ]
  },
  {
   "cell_type": "code",
   "execution_count": null,
   "metadata": {},
   "outputs": [],
   "source": [
    "plt.figure(figsize=(8,6))\n",
    "plt.plot(LOSS, label='MBGD')\n",
    "plt.xlabel('epochs')\n",
    "plt.ylabel('loss')\n",
    "plt.legend()\n",
    "plt.show()"
   ]
  },
  {
   "cell_type": "code",
   "execution_count": null,
   "metadata": {},
   "outputs": [],
   "source": []
  }
 ],
 "metadata": {
  "kernelspec": {
   "display_name": "Python 3",
   "language": "python",
   "name": "python3"
  },
  "language_info": {
   "codemirror_mode": {
    "name": "ipython",
    "version": 3
   },
   "file_extension": ".py",
   "mimetype": "text/x-python",
   "name": "python",
   "nbconvert_exporter": "python",
   "pygments_lexer": "ipython3",
   "version": "3.6.8"
  }
 },
 "nbformat": 4,
 "nbformat_minor": 2
}
